{
  "nbformat": 4,
  "nbformat_minor": 0,
  "metadata": {
    "colab": {
      "provenance": []
    },
    "kernelspec": {
      "name": "python3",
      "display_name": "Python 3"
    },
    "language_info": {
      "name": "python"
    },
    "accelerator": "GPU",
    "gpuClass": "premium"
  },
  "cells": [
    {
      "cell_type": "code",
      "source": [
        "!pip install tqdm\n"
      ],
      "metadata": {
        "colab": {
          "base_uri": "https://localhost:8080/"
        },
        "id": "Ff3IPRxSZltc",
        "outputId": "c2a50cd5-f891-4eb1-8a25-2ec7a63865aa"
      },
      "execution_count": null,
      "outputs": [
        {
          "output_type": "stream",
          "name": "stdout",
          "text": [
            "Looking in indexes: https://pypi.org/simple, https://us-python.pkg.dev/colab-wheels/public/simple/\n",
            "Requirement already satisfied: tqdm in /usr/local/lib/python3.8/dist-packages (4.64.1)\n"
          ]
        }
      ]
    },
    {
      "cell_type": "code",
      "source": [
        "# import pytorch\n",
        "import numpy as np\n",
        "import time\n",
        "import shutil\n",
        "\n",
        "start_time = time.time()\n",
        "\n",
        "import pandas as pd\n",
        "import csv\n",
        "import torchvision\n",
        "from torchvision import transforms\n",
        "from torchvision import datasets\n",
        "from torch.utils.data import DataLoader\n",
        "import matplotlib.pyplot as plt\n",
        "import torch.nn as nn\n",
        "import torch.nn.functional as F\n",
        "import torch.optim as optim\n",
        "import torch\n",
        "\n",
        "from torchvision import datasets, models, transforms\n",
        "import torch.nn as nn\n",
        "\n",
        "LABELS_FILE_PATH = \"noTreeCropsEmbeddedSides.csv\"\n",
        "IMAGE_FOLDER_PATH = \"noTreeCropsEmbeddedSides/\"\n",
        "\n",
        "\n",
        "def loadCSV(LABELS_FILE_PATH):\n",
        "    filenames = []\n",
        "    labels = []\n",
        "    with open(LABELS_FILE_PATH) as csv_file:\n",
        "        csv_reader = csv.reader(csv_file, delimiter=',')\n",
        "        line_count = 0\n",
        "        for row in csv_reader:\n",
        "            if line_count == 0:\n",
        "                print(f'Column names are {\", \".join(row)}')\n",
        "                line_count += 1\n",
        "            else:\n",
        "                filename = row[0]\n",
        "                idx = filename.find('-')\n",
        "                # print(filename[idx+1:])\n",
        "                filenames.append(filename[idx+1:])\n",
        "                labels.append(row[1])\n",
        "                line_count += 1\n",
        "        print(f'Loaded CSV with {line_count} labels.')\n",
        "    return filenames, labels\n",
        "\n",
        "def encodeLabels(labels):\n",
        "    classes = {'Field': 0, 'Not-Field': 1}\n",
        "    newLabels = []\n",
        "    for i, l in enumerate(labels):\n",
        "        if l not in '':\n",
        "            newLabels.append(classes[l])\n",
        "        else:\n",
        "            newLabels.append(1)\n",
        "            print(i)\n",
        "    return newLabels\n",
        "\n",
        "def uploadImages(folderPath, filenames, labels, batchSize):\n",
        "    data = []\n",
        "\n",
        "    labels = encodeLabels(labels)\n",
        "\n",
        "    for i, file in enumerate(filenames):\n",
        "        if i != 95:\n",
        "            im = torchvision.io.read_image(folderPath + file)\n",
        "            # data.append([torchvision.io.read_image(folderPath + file), labels[i]])\n",
        "\n",
        "            data.append([im.to(torch.float), labels[i]])\n",
        "\n",
        "    # train_set = datasets.ImageFolder(folderPath)\n",
        "    splitIdx = round(len(data)*0.7)\n",
        "    train = DataLoader(data[:splitIdx], batch_size = batchSize)\n",
        "    test = DataLoader(data[splitIdx:], batch_size = batchSize)\n",
        "\n",
        "    return train, test\n",
        "\n",
        "def train_imshow():\n",
        "    classes = {'Field': 0, 'Not-Field': 1} # Defining the classes we have\n",
        "    dataiter = iter(trainloader)\n",
        "    images, labels = dataiter.next()\n",
        "    print(labels)\n",
        "    fig, axes = plt.subplots(figsize=(10, 4), ncols=5)\n",
        "    for i in range(5):\n",
        "        ax = axes[i]\n",
        "        ax.imshow(images[i].permute(1, 2, 0))\n",
        "        ax.title.set_text(' '.join('%5s' % classes[labels[i]]))\n",
        "    plt.show()\n",
        "\n",
        "BATCH_SIZE = 32\n",
        "\n",
        "filenames, labels = loadCSV(LABELS_FILE_PATH)\n",
        "trainloader, testloader = uploadImages(IMAGE_FOLDER_PATH, filenames, labels, BATCH_SIZE)\n"
      ],
      "metadata": {
        "colab": {
          "base_uri": "https://localhost:8080/"
        },
        "id": "MrYj4WTHnESE",
        "outputId": "b2ad0223-6a36-4702-a387-544ed255deb2"
      },
      "execution_count": 40,
      "outputs": [
        {
          "output_type": "stream",
          "name": "stdout",
          "text": [
            "Column names are image, choice, created_at, annotation_id, id, lead_time, updated_at, annotator\n",
            "Loaded CSV with 615 labels.\n",
            "95\n"
          ]
        }
      ]
    },
    {
      "cell_type": "code",
      "source": [
        "def classBalance(labels):\n",
        "  encodedLabels = encodeLabels(labels)\n",
        "  field = 0\n",
        "  nfield = 0\n",
        "  for l in encodedLabels:\n",
        "    if l == 0:\n",
        "      field +=1\n",
        "    elif l == 1:\n",
        "      nfield +=1\n",
        "  print('Field Images : {}, Non-field Images : {}'.format(field,nfield))\n",
        "classBalance(labels)"
      ],
      "metadata": {
        "colab": {
          "base_uri": "https://localhost:8080/"
        },
        "id": "VtX3H2EhnFP-",
        "outputId": "3c1e8310-7cb0-4830-b833-2b02ecae8f67"
      },
      "execution_count": 42,
      "outputs": [
        {
          "output_type": "stream",
          "name": "stdout",
          "text": [
            "95\n",
            "Field Images : 240, Non-field Images : 374\n"
          ]
        }
      ]
    },
    {
      "cell_type": "code",
      "execution_count": 45,
      "metadata": {
        "colab": {
          "base_uri": "https://localhost:8080/"
        },
        "id": "fHpXNf7KZjXl",
        "outputId": "e08357a7-6f8d-40c9-b800-2aaa12fcc41c"
      },
      "outputs": [
        {
          "output_type": "stream",
          "name": "stderr",
          "text": [
            "100%|██████████| 14/14 [00:01<00:00,  7.05it/s]\n"
          ]
        },
        {
          "output_type": "stream",
          "name": "stdout",
          "text": [
            "\n",
            "Epoch : 1, train loss : 3.421875476837158, train acc : 0.5530563186813187\n",
            "Epoch : 1, val loss : 1.2366751432418823 val acc: 0.765625\n"
          ]
        },
        {
          "output_type": "stream",
          "name": "stderr",
          "text": [
            "100%|██████████| 14/14 [00:01<00:00,  7.19it/s]\n"
          ]
        },
        {
          "output_type": "stream",
          "name": "stdout",
          "text": [
            "\n",
            "Epoch : 2, train loss : 0.6084225177764893, train acc : 0.7034684065934068\n",
            "Epoch : 2, val loss : 0.49452459812164307 val acc: 0.7361111111111112\n"
          ]
        },
        {
          "output_type": "stream",
          "name": "stderr",
          "text": [
            "100%|██████████| 14/14 [00:01<00:00,  7.25it/s]\n"
          ]
        },
        {
          "output_type": "stream",
          "name": "stdout",
          "text": [
            "\n",
            "Epoch : 3, train loss : 0.5808559060096741, train acc : 0.7280219780219781\n",
            "Epoch : 3, val loss : 0.694177508354187 val acc: 0.7413194444444444\n"
          ]
        },
        {
          "output_type": "stream",
          "name": "stderr",
          "text": [
            "100%|██████████| 14/14 [00:01<00:00,  7.22it/s]\n"
          ]
        },
        {
          "output_type": "stream",
          "name": "stdout",
          "text": [
            "\n",
            "Epoch : 4, train loss : 0.6127884387969971, train acc : 0.7324862637362637\n",
            "Epoch : 4, val loss : 0.7376733422279358 val acc: 0.7083333333333334\n"
          ]
        },
        {
          "output_type": "stream",
          "name": "stderr",
          "text": [
            "100%|██████████| 14/14 [00:02<00:00,  6.97it/s]\n"
          ]
        },
        {
          "output_type": "stream",
          "name": "stdout",
          "text": [
            "\n",
            "Epoch : 5, train loss : 0.631324052810669, train acc : 0.7491414835164835\n",
            "Epoch : 5, val loss : 0.496612012386322 val acc: 0.6979166666666667\n"
          ]
        },
        {
          "output_type": "stream",
          "name": "stderr",
          "text": [
            "100%|██████████| 14/14 [00:02<00:00,  6.66it/s]\n"
          ]
        },
        {
          "output_type": "stream",
          "name": "stdout",
          "text": [
            "\n",
            "Epoch : 6, train loss : 0.6715372204780579, train acc : 0.7388392857142858\n",
            "Epoch : 6, val loss : 0.10503601282835007 val acc: 0.751736111111111\n"
          ]
        },
        {
          "output_type": "stream",
          "name": "stderr",
          "text": [
            "100%|██████████| 14/14 [00:02<00:00,  6.40it/s]\n"
          ]
        },
        {
          "output_type": "stream",
          "name": "stdout",
          "text": [
            "\n",
            "Epoch : 7, train loss : 0.6547219157218933, train acc : 0.7433035714285715\n",
            "Epoch : 7, val loss : 0.10191981494426727 val acc: 0.842013888888889\n"
          ]
        },
        {
          "output_type": "stream",
          "name": "stderr",
          "text": [
            "100%|██████████| 14/14 [00:02<00:00,  6.33it/s]\n"
          ]
        },
        {
          "output_type": "stream",
          "name": "stdout",
          "text": [
            "\n",
            "Epoch : 8, train loss : 0.4981125295162201, train acc : 0.796875\n",
            "Epoch : 8, val loss : 0.08582118153572083 val acc: 0.8125000000000001\n"
          ]
        },
        {
          "output_type": "stream",
          "name": "stderr",
          "text": [
            "100%|██████████| 14/14 [00:02<00:00,  6.40it/s]\n"
          ]
        },
        {
          "output_type": "stream",
          "name": "stdout",
          "text": [
            "\n",
            "Epoch : 9, train loss : 0.3755311667919159, train acc : 0.8348214285714286\n",
            "Epoch : 9, val loss : 0.06426972895860672 val acc: 0.8350694444444445\n"
          ]
        },
        {
          "output_type": "stream",
          "name": "stderr",
          "text": [
            "100%|██████████| 14/14 [00:02<00:00,  6.39it/s]\n"
          ]
        },
        {
          "output_type": "stream",
          "name": "stdout",
          "text": [
            "\n",
            "Epoch : 10, train loss : 0.3391313850879669, train acc : 0.8504464285714285\n",
            "Epoch : 10, val loss : 0.06652883440256119 val acc: 0.8472222222222221\n"
          ]
        },
        {
          "output_type": "stream",
          "name": "stderr",
          "text": [
            "100%|██████████| 14/14 [00:02<00:00,  6.55it/s]\n"
          ]
        },
        {
          "output_type": "stream",
          "name": "stdout",
          "text": [
            "\n",
            "Epoch : 11, train loss : 0.3354256749153137, train acc : 0.8482142857142857\n",
            "Epoch : 11, val loss : 0.07009631395339966 val acc: 0.8368055555555556\n"
          ]
        },
        {
          "output_type": "stream",
          "name": "stderr",
          "text": [
            "100%|██████████| 14/14 [00:02<00:00,  6.48it/s]\n"
          ]
        },
        {
          "output_type": "stream",
          "name": "stdout",
          "text": [
            "\n",
            "Epoch : 12, train loss : 0.3354398012161255, train acc : 0.8549107142857143\n",
            "Epoch : 12, val loss : 0.07579255849123001 val acc: 0.8368055555555556\n"
          ]
        },
        {
          "output_type": "stream",
          "name": "stderr",
          "text": [
            "100%|██████████| 14/14 [00:02<00:00,  6.38it/s]\n"
          ]
        },
        {
          "output_type": "stream",
          "name": "stdout",
          "text": [
            "\n",
            "Epoch : 13, train loss : 0.3355186879634857, train acc : 0.8504464285714286\n",
            "Epoch : 13, val loss : 0.07648372650146484 val acc: 0.8315972222222223\n"
          ]
        },
        {
          "output_type": "stream",
          "name": "stderr",
          "text": [
            "100%|██████████| 14/14 [00:02<00:00,  6.35it/s]\n"
          ]
        },
        {
          "output_type": "stream",
          "name": "stdout",
          "text": [
            "\n",
            "Epoch : 14, train loss : 0.33714917302131653, train acc : 0.8549107142857143\n",
            "Epoch : 14, val loss : 0.06915713101625443 val acc: 0.8315972222222223\n"
          ]
        },
        {
          "output_type": "stream",
          "name": "stderr",
          "text": [
            "100%|██████████| 14/14 [00:02<00:00,  6.36it/s]\n"
          ]
        },
        {
          "output_type": "stream",
          "name": "stdout",
          "text": [
            "\n",
            "Epoch : 15, train loss : 0.34285682439804077, train acc : 0.8459821428571429\n",
            "Epoch : 15, val loss : 0.059162039309740067 val acc: 0.8315972222222223\n"
          ]
        },
        {
          "output_type": "stream",
          "name": "stderr",
          "text": [
            "100%|██████████| 14/14 [00:02<00:00,  6.38it/s]\n"
          ]
        },
        {
          "output_type": "stream",
          "name": "stdout",
          "text": [
            "\n",
            "Epoch : 16, train loss : 0.3540090024471283, train acc : 0.8348214285714286\n",
            "Epoch : 16, val loss : 0.05145762115716934 val acc: 0.826388888888889\n"
          ]
        },
        {
          "output_type": "stream",
          "name": "stderr",
          "text": [
            "100%|██████████| 14/14 [00:02<00:00,  6.36it/s]\n"
          ]
        },
        {
          "output_type": "stream",
          "name": "stdout",
          "text": [
            "\n",
            "Epoch : 17, train loss : 0.37026822566986084, train acc : 0.8191964285714285\n",
            "Epoch : 17, val loss : 0.04828047379851341 val acc: 0.8368055555555556\n"
          ]
        },
        {
          "output_type": "stream",
          "name": "stderr",
          "text": [
            "100%|██████████| 14/14 [00:02<00:00,  6.35it/s]\n"
          ]
        },
        {
          "output_type": "stream",
          "name": "stdout",
          "text": [
            "\n",
            "Epoch : 18, train loss : 0.3906483054161072, train acc : 0.8236607142857142\n",
            "Epoch : 18, val loss : 0.052873723208904266 val acc: 0.8368055555555556\n"
          ]
        },
        {
          "output_type": "stream",
          "name": "stderr",
          "text": [
            "100%|██████████| 14/14 [00:02<00:00,  6.53it/s]\n"
          ]
        },
        {
          "output_type": "stream",
          "name": "stdout",
          "text": [
            "\n",
            "Epoch : 19, train loss : 0.4129136800765991, train acc : 0.8102678571428571\n",
            "Epoch : 19, val loss : 0.07325024902820587 val acc: 0.8211805555555556\n"
          ]
        },
        {
          "output_type": "stream",
          "name": "stderr",
          "text": [
            "100%|██████████| 14/14 [00:02<00:00,  6.34it/s]\n"
          ]
        },
        {
          "output_type": "stream",
          "name": "stdout",
          "text": [
            "\n",
            "Epoch : 20, train loss : 0.4271191358566284, train acc : 0.8169642857142858\n",
            "Epoch : 20, val loss : 0.11967658251523972 val acc: 0.8420138888888888\n"
          ]
        },
        {
          "output_type": "stream",
          "name": "stderr",
          "text": [
            "100%|██████████| 14/14 [00:02<00:00,  6.35it/s]\n"
          ]
        },
        {
          "output_type": "stream",
          "name": "stdout",
          "text": [
            "\n",
            "Epoch : 21, train loss : 0.4018169641494751, train acc : 0.8203983516483517\n",
            "Epoch : 21, val loss : 0.137566938996315 val acc: 0.7968750000000001\n"
          ]
        },
        {
          "output_type": "stream",
          "name": "stderr",
          "text": [
            "100%|██████████| 14/14 [00:02<00:00,  6.39it/s]\n"
          ]
        },
        {
          "output_type": "stream",
          "name": "stdout",
          "text": [
            "\n",
            "Epoch : 22, train loss : 0.3464038670063019, train acc : 0.8638392857142857\n",
            "Epoch : 22, val loss : 0.045467931777238846 val acc: 0.7916666666666667\n"
          ]
        },
        {
          "output_type": "stream",
          "name": "stderr",
          "text": [
            "100%|██████████| 14/14 [00:02<00:00,  6.36it/s]\n"
          ]
        },
        {
          "output_type": "stream",
          "name": "stdout",
          "text": [
            "\n",
            "Epoch : 23, train loss : 0.2619526982307434, train acc : 0.9040178571428572\n",
            "Epoch : 23, val loss : 0.049804188311100006 val acc: 0.8177083333333334\n"
          ]
        },
        {
          "output_type": "stream",
          "name": "stderr",
          "text": [
            "100%|██████████| 14/14 [00:02<00:00,  6.40it/s]\n"
          ]
        },
        {
          "output_type": "stream",
          "name": "stdout",
          "text": [
            "\n",
            "Epoch : 24, train loss : 0.21164682507514954, train acc : 0.9129464285714285\n",
            "Epoch : 24, val loss : 0.05208481103181839 val acc: 0.842013888888889\n"
          ]
        },
        {
          "output_type": "stream",
          "name": "stderr",
          "text": [
            "100%|██████████| 14/14 [00:02<00:00,  6.56it/s]\n"
          ]
        },
        {
          "output_type": "stream",
          "name": "stdout",
          "text": [
            "\n",
            "Epoch : 25, train loss : 0.2019602209329605, train acc : 0.9129464285714284\n",
            "Epoch : 25, val loss : 0.05223892629146576 val acc: 0.842013888888889\n"
          ]
        },
        {
          "output_type": "stream",
          "name": "stderr",
          "text": [
            "100%|██████████| 14/14 [00:02<00:00,  6.51it/s]\n"
          ]
        },
        {
          "output_type": "stream",
          "name": "stdout",
          "text": [
            "\n",
            "Epoch : 26, train loss : 0.19560125470161438, train acc : 0.921875\n",
            "Epoch : 26, val loss : 0.05266533046960831 val acc: 0.8472222222222223\n"
          ]
        },
        {
          "output_type": "stream",
          "name": "stderr",
          "text": [
            "100%|██████████| 14/14 [00:02<00:00,  6.60it/s]\n"
          ]
        },
        {
          "output_type": "stream",
          "name": "stdout",
          "text": [
            "\n",
            "Epoch : 27, train loss : 0.1911839246749878, train acc : 0.9241071428571428\n",
            "Epoch : 27, val loss : 0.052229903638362885 val acc: 0.857638888888889\n"
          ]
        },
        {
          "output_type": "stream",
          "name": "stderr",
          "text": [
            "100%|██████████| 14/14 [00:02<00:00,  6.41it/s]\n"
          ]
        },
        {
          "output_type": "stream",
          "name": "stdout",
          "text": [
            "\n",
            "Epoch : 28, train loss : 0.1883450150489807, train acc : 0.9263392857142857\n",
            "Epoch : 28, val loss : 0.050710342824459076 val acc: 0.8524305555555555\n"
          ]
        },
        {
          "output_type": "stream",
          "name": "stderr",
          "text": [
            "100%|██████████| 14/14 [00:02<00:00,  6.39it/s]\n"
          ]
        },
        {
          "output_type": "stream",
          "name": "stdout",
          "text": [
            "\n",
            "Epoch : 29, train loss : 0.1866087019443512, train acc : 0.9285714285714286\n",
            "Epoch : 29, val loss : 0.048482708632946014 val acc: 0.8524305555555555\n"
          ]
        },
        {
          "output_type": "stream",
          "name": "stderr",
          "text": [
            "100%|██████████| 14/14 [00:02<00:00,  6.37it/s]\n"
          ]
        },
        {
          "output_type": "stream",
          "name": "stdout",
          "text": [
            "\n",
            "Epoch : 30, train loss : 0.18576876819133759, train acc : 0.9241071428571428\n",
            "Epoch : 30, val loss : 0.0460435152053833 val acc: 0.8524305555555555\n"
          ]
        },
        {
          "output_type": "stream",
          "name": "stderr",
          "text": [
            "100%|██████████| 14/14 [00:02<00:00,  6.38it/s]\n"
          ]
        },
        {
          "output_type": "stream",
          "name": "stdout",
          "text": [
            "\n",
            "Epoch : 31, train loss : 0.1858355700969696, train acc : 0.9196428571428571\n",
            "Epoch : 31, val loss : 0.04376353323459625 val acc: 0.8472222222222222\n"
          ]
        },
        {
          "output_type": "stream",
          "name": "stderr",
          "text": [
            "100%|██████████| 14/14 [00:02<00:00,  6.37it/s]\n"
          ]
        },
        {
          "output_type": "stream",
          "name": "stdout",
          "text": [
            "\n",
            "Epoch : 32, train loss : 0.18693847954273224, train acc : 0.9107142857142857\n",
            "Epoch : 32, val loss : 0.04181606322526932 val acc: 0.8315972222222222\n"
          ]
        },
        {
          "output_type": "stream",
          "name": "stderr",
          "text": [
            "100%|██████████| 14/14 [00:02<00:00,  6.38it/s]\n"
          ]
        },
        {
          "output_type": "stream",
          "name": "stdout",
          "text": [
            "\n",
            "Epoch : 33, train loss : 0.18928132951259613, train acc : 0.9107142857142856\n",
            "Epoch : 33, val loss : 0.040212344378232956 val acc: 0.8315972222222222\n"
          ]
        },
        {
          "output_type": "stream",
          "name": "stderr",
          "text": [
            "100%|██████████| 14/14 [00:02<00:00,  6.46it/s]\n"
          ]
        },
        {
          "output_type": "stream",
          "name": "stdout",
          "text": [
            "\n",
            "Epoch : 34, train loss : 0.1931437999010086, train acc : 0.90625\n",
            "Epoch : 34, val loss : 0.03888116404414177 val acc: 0.8263888888888888\n"
          ]
        },
        {
          "output_type": "stream",
          "name": "stderr",
          "text": [
            "100%|██████████| 14/14 [00:02<00:00,  6.39it/s]\n"
          ]
        },
        {
          "output_type": "stream",
          "name": "stdout",
          "text": [
            "\n",
            "Epoch : 35, train loss : 0.19890475273132324, train acc : 0.8950892857142857\n",
            "Epoch : 35, val loss : 0.037744779139757156 val acc: 0.8263888888888888\n"
          ]
        },
        {
          "output_type": "stream",
          "name": "stderr",
          "text": [
            "100%|██████████| 14/14 [00:02<00:00,  6.32it/s]\n"
          ]
        },
        {
          "output_type": "stream",
          "name": "stdout",
          "text": [
            "\n",
            "Epoch : 36, train loss : 0.20706826448440552, train acc : 0.8883928571428572\n",
            "Epoch : 36, val loss : 0.03678836300969124 val acc: 0.8263888888888888\n"
          ]
        },
        {
          "output_type": "stream",
          "name": "stderr",
          "text": [
            "100%|██████████| 14/14 [00:02<00:00,  6.28it/s]\n"
          ]
        },
        {
          "output_type": "stream",
          "name": "stdout",
          "text": [
            "\n",
            "Epoch : 37, train loss : 0.218288391828537, train acc : 0.8883928571428572\n",
            "Epoch : 37, val loss : 0.036191850900650024 val acc: 0.8263888888888888\n"
          ]
        },
        {
          "output_type": "stream",
          "name": "stderr",
          "text": [
            "100%|██████████| 14/14 [00:02<00:00,  6.32it/s]\n"
          ]
        },
        {
          "output_type": "stream",
          "name": "stdout",
          "text": [
            "\n",
            "Epoch : 38, train loss : 0.23340316116809845, train acc : 0.8839285714285714\n",
            "Epoch : 38, val loss : 0.036676425486803055 val acc: 0.8263888888888888\n"
          ]
        },
        {
          "output_type": "stream",
          "name": "stderr",
          "text": [
            "100%|██████████| 14/14 [00:02<00:00,  6.35it/s]\n"
          ]
        },
        {
          "output_type": "stream",
          "name": "stdout",
          "text": [
            "\n",
            "Epoch : 39, train loss : 0.2534431219100952, train acc : 0.8772321428571428\n",
            "Epoch : 39, val loss : 0.04028410464525223 val acc: 0.8263888888888888\n"
          ]
        },
        {
          "output_type": "stream",
          "name": "stderr",
          "text": [
            "100%|██████████| 14/14 [00:02<00:00,  6.48it/s]\n"
          ]
        },
        {
          "output_type": "stream",
          "name": "stdout",
          "text": [
            "\n",
            "Epoch : 40, train loss : 0.2792239785194397, train acc : 0.8683035714285715\n",
            "Epoch : 40, val loss : 0.05169536918401718 val acc: 0.8263888888888888\n"
          ]
        },
        {
          "output_type": "stream",
          "name": "stderr",
          "text": [
            "100%|██████████| 14/14 [00:02<00:00,  6.40it/s]\n"
          ]
        },
        {
          "output_type": "stream",
          "name": "stdout",
          "text": [
            "\n",
            "Epoch : 41, train loss : 0.308566689491272, train acc : 0.8571428571428572\n",
            "Epoch : 41, val loss : 0.07921165972948074 val acc: 0.8211805555555556\n"
          ]
        },
        {
          "output_type": "stream",
          "name": "stderr",
          "text": [
            "100%|██████████| 14/14 [00:02<00:00,  6.34it/s]\n"
          ]
        },
        {
          "output_type": "stream",
          "name": "stdout",
          "text": [
            "\n",
            "Epoch : 42, train loss : 0.3292296230792999, train acc : 0.8404876373626374\n",
            "Epoch : 42, val loss : 0.12941567599773407 val acc: 0.826388888888889\n"
          ]
        },
        {
          "output_type": "stream",
          "name": "stderr",
          "text": [
            "100%|██████████| 14/14 [00:02<00:00,  6.45it/s]\n"
          ]
        },
        {
          "output_type": "stream",
          "name": "stdout",
          "text": [
            "\n",
            "Epoch : 43, train loss : 0.34542176127433777, train acc : 0.8538804945054947\n",
            "Epoch : 43, val loss : 0.09392677247524261 val acc: 0.7552083333333334\n"
          ]
        },
        {
          "output_type": "stream",
          "name": "stderr",
          "text": [
            "100%|██████████| 14/14 [00:02<00:00,  6.35it/s]\n"
          ]
        },
        {
          "output_type": "stream",
          "name": "stdout",
          "text": [
            "\n",
            "Epoch : 44, train loss : 0.40089792013168335, train acc : 0.878434065934066\n",
            "Epoch : 44, val loss : 0.13552185893058777 val acc: 0.8315972222222222\n"
          ]
        },
        {
          "output_type": "stream",
          "name": "stderr",
          "text": [
            "100%|██████████| 14/14 [00:02<00:00,  6.35it/s]\n"
          ]
        },
        {
          "output_type": "stream",
          "name": "stdout",
          "text": [
            "\n",
            "Epoch : 45, train loss : 0.19828401505947113, train acc : 0.923076923076923\n",
            "Epoch : 45, val loss : 0.07574495673179626 val acc: 0.8368055555555556\n"
          ]
        },
        {
          "output_type": "stream",
          "name": "stderr",
          "text": [
            "100%|██████████| 14/14 [00:02<00:00,  6.36it/s]\n"
          ]
        },
        {
          "output_type": "stream",
          "name": "stdout",
          "text": [
            "\n",
            "Epoch : 46, train loss : 0.19515888392925262, train acc : 0.9218750000000001\n",
            "Epoch : 46, val loss : 0.020599771291017532 val acc: 0.826388888888889\n"
          ]
        },
        {
          "output_type": "stream",
          "name": "stderr",
          "text": [
            "100%|██████████| 14/14 [00:02<00:00,  6.34it/s]\n"
          ]
        },
        {
          "output_type": "stream",
          "name": "stdout",
          "text": [
            "\n",
            "Epoch : 47, train loss : 0.20553022623062134, train acc : 0.9241071428571429\n",
            "Epoch : 47, val loss : 0.021079113706946373 val acc: 0.8315972222222222\n"
          ]
        },
        {
          "output_type": "stream",
          "name": "stderr",
          "text": [
            "100%|██████████| 14/14 [00:02<00:00,  6.29it/s]\n"
          ]
        },
        {
          "output_type": "stream",
          "name": "stdout",
          "text": [
            "\n",
            "Epoch : 48, train loss : 0.20200403034687042, train acc : 0.9196428571428572\n",
            "Epoch : 48, val loss : 0.03305966779589653 val acc: 0.8315972222222222\n"
          ]
        },
        {
          "output_type": "stream",
          "name": "stderr",
          "text": [
            "100%|██████████| 14/14 [00:02<00:00,  6.42it/s]\n"
          ]
        },
        {
          "output_type": "stream",
          "name": "stdout",
          "text": [
            "\n",
            "Epoch : 49, train loss : 0.18701787292957306, train acc : 0.9375\n",
            "Epoch : 49, val loss : 0.04692931845784187 val acc: 0.8368055555555555\n"
          ]
        },
        {
          "output_type": "stream",
          "name": "stderr",
          "text": [
            "100%|██████████| 14/14 [00:02<00:00,  6.43it/s]\n"
          ]
        },
        {
          "output_type": "stream",
          "name": "stdout",
          "text": [
            "\n",
            "Epoch : 50, train loss : 0.18141260743141174, train acc : 0.9285714285714286\n",
            "Epoch : 50, val loss : 0.05512185022234917 val acc: 0.8472222222222222\n"
          ]
        },
        {
          "output_type": "stream",
          "name": "stderr",
          "text": [
            "100%|██████████| 14/14 [00:02<00:00,  6.38it/s]\n"
          ]
        },
        {
          "output_type": "stream",
          "name": "stdout",
          "text": [
            "\n",
            "Epoch : 51, train loss : 0.18020984530448914, train acc : 0.9285714285714285\n",
            "Epoch : 51, val loss : 0.05188771337270737 val acc: 0.8420138888888888\n"
          ]
        },
        {
          "output_type": "stream",
          "name": "stderr",
          "text": [
            "100%|██████████| 14/14 [00:02<00:00,  6.36it/s]\n"
          ]
        },
        {
          "output_type": "stream",
          "name": "stdout",
          "text": [
            "\n",
            "Epoch : 52, train loss : 0.18029826879501343, train acc : 0.9218749999999999\n",
            "Epoch : 52, val loss : 0.0420682318508625 val acc: 0.8368055555555556\n"
          ]
        },
        {
          "output_type": "stream",
          "name": "stderr",
          "text": [
            "100%|██████████| 14/14 [00:02<00:00,  6.29it/s]\n"
          ]
        },
        {
          "output_type": "stream",
          "name": "stdout",
          "text": [
            "\n",
            "Epoch : 53, train loss : 0.18119855225086212, train acc : 0.919642857142857\n",
            "Epoch : 53, val loss : 0.033205218613147736 val acc: 0.8315972222222222\n"
          ]
        },
        {
          "output_type": "stream",
          "name": "stderr",
          "text": [
            "100%|██████████| 14/14 [00:02<00:00,  6.34it/s]\n"
          ]
        },
        {
          "output_type": "stream",
          "name": "stdout",
          "text": [
            "\n",
            "Epoch : 54, train loss : 0.18292197585105896, train acc : 0.9174107142857142\n",
            "Epoch : 54, val loss : 0.0274671483784914 val acc: 0.8368055555555556\n"
          ]
        },
        {
          "output_type": "stream",
          "name": "stderr",
          "text": [
            "100%|██████████| 14/14 [00:02<00:00,  6.33it/s]\n"
          ]
        },
        {
          "output_type": "stream",
          "name": "stdout",
          "text": [
            "\n",
            "Epoch : 55, train loss : 0.18523134291172028, train acc : 0.9241071428571429\n",
            "Epoch : 55, val loss : 0.02407195046544075 val acc: 0.8420138888888888\n"
          ]
        },
        {
          "output_type": "stream",
          "name": "stderr",
          "text": [
            "100%|██████████| 14/14 [00:02<00:00,  6.37it/s]\n"
          ]
        },
        {
          "output_type": "stream",
          "name": "stdout",
          "text": [
            "\n",
            "Epoch : 56, train loss : 0.18830230832099915, train acc : 0.9263392857142856\n",
            "Epoch : 56, val loss : 0.022298447787761688 val acc: 0.8315972222222222\n"
          ]
        },
        {
          "output_type": "stream",
          "name": "stderr",
          "text": [
            "100%|██████████| 14/14 [00:02<00:00,  6.51it/s]\n"
          ]
        },
        {
          "output_type": "stream",
          "name": "stdout",
          "text": [
            "\n",
            "Epoch : 57, train loss : 0.19321209192276, train acc : 0.9263392857142856\n",
            "Epoch : 57, val loss : 0.022156115621328354 val acc: 0.8315972222222222\n"
          ]
        },
        {
          "output_type": "stream",
          "name": "stderr",
          "text": [
            "100%|██████████| 14/14 [00:02<00:00,  6.42it/s]\n"
          ]
        },
        {
          "output_type": "stream",
          "name": "stdout",
          "text": [
            "\n",
            "Epoch : 58, train loss : 0.20074793696403503, train acc : 0.921875\n",
            "Epoch : 58, val loss : 0.024372246116399765 val acc: 0.8315972222222222\n"
          ]
        },
        {
          "output_type": "stream",
          "name": "stderr",
          "text": [
            "100%|██████████| 14/14 [00:02<00:00,  6.42it/s]\n"
          ]
        },
        {
          "output_type": "stream",
          "name": "stdout",
          "text": [
            "\n",
            "Epoch : 59, train loss : 0.2072828859090805, train acc : 0.9196428571428571\n",
            "Epoch : 59, val loss : 0.03078543208539486 val acc: 0.8263888888888888\n"
          ]
        },
        {
          "output_type": "stream",
          "name": "stderr",
          "text": [
            "100%|██████████| 14/14 [00:02<00:00,  6.32it/s]\n"
          ]
        },
        {
          "output_type": "stream",
          "name": "stdout",
          "text": [
            "\n",
            "Epoch : 60, train loss : 0.20733532309532166, train acc : 0.9285714285714285\n",
            "Epoch : 60, val loss : 0.044053636491298676 val acc: 0.8263888888888888\n"
          ]
        },
        {
          "output_type": "stream",
          "name": "stderr",
          "text": [
            "100%|██████████| 14/14 [00:02<00:00,  6.28it/s]\n"
          ]
        },
        {
          "output_type": "stream",
          "name": "stdout",
          "text": [
            "\n",
            "Epoch : 61, train loss : 0.20447099208831787, train acc : 0.925309065934066\n",
            "Epoch : 61, val loss : 0.06428579241037369 val acc: 0.8315972222222222\n"
          ]
        },
        {
          "output_type": "stream",
          "name": "stderr",
          "text": [
            "100%|██████████| 14/14 [00:02<00:00,  6.29it/s]\n"
          ]
        },
        {
          "output_type": "stream",
          "name": "stdout",
          "text": [
            "\n",
            "Epoch : 62, train loss : 0.20536890625953674, train acc : 0.9163804945054945\n",
            "Epoch : 62, val loss : 0.08503977954387665 val acc: 0.826388888888889\n"
          ]
        },
        {
          "output_type": "stream",
          "name": "stderr",
          "text": [
            "100%|██████████| 14/14 [00:02<00:00,  6.28it/s]\n"
          ]
        },
        {
          "output_type": "stream",
          "name": "stdout",
          "text": [
            "\n",
            "Epoch : 63, train loss : 0.21184141933918, train acc : 0.9163804945054944\n",
            "Epoch : 63, val loss : 0.09433110058307648 val acc: 0.8315972222222222\n"
          ]
        },
        {
          "output_type": "stream",
          "name": "stderr",
          "text": [
            "100%|██████████| 14/14 [00:02<00:00,  6.37it/s]\n"
          ]
        },
        {
          "output_type": "stream",
          "name": "stdout",
          "text": [
            "\n",
            "Epoch : 64, train loss : 0.2252269983291626, train acc : 0.9052197802197802\n",
            "Epoch : 64, val loss : 0.08571997284889221 val acc: 0.8368055555555556\n"
          ]
        },
        {
          "output_type": "stream",
          "name": "stderr",
          "text": [
            "100%|██████████| 14/14 [00:02<00:00,  6.45it/s]\n"
          ]
        },
        {
          "output_type": "stream",
          "name": "stdout",
          "text": [
            "\n",
            "Epoch : 65, train loss : 0.25222861766815186, train acc : 0.8950892857142856\n",
            "Epoch : 65, val loss : 0.06145315617322922 val acc: 0.8368055555555556\n"
          ]
        },
        {
          "output_type": "stream",
          "name": "stderr",
          "text": [
            "100%|██████████| 14/14 [00:02<00:00,  6.55it/s]\n"
          ]
        },
        {
          "output_type": "stream",
          "name": "stdout",
          "text": [
            "\n",
            "Epoch : 66, train loss : 0.3105185031890869, train acc : 0.8526785714285715\n",
            "Epoch : 66, val loss : 0.02579718455672264 val acc: 0.8368055555555556\n"
          ]
        },
        {
          "output_type": "stream",
          "name": "stderr",
          "text": [
            "100%|██████████| 14/14 [00:02<00:00,  6.38it/s]\n"
          ]
        },
        {
          "output_type": "stream",
          "name": "stdout",
          "text": [
            "\n",
            "Epoch : 67, train loss : 0.3832976818084717, train acc : 0.8392857142857143\n",
            "Epoch : 67, val loss : 0.006830223836004734 val acc: 0.8368055555555556\n"
          ]
        },
        {
          "output_type": "stream",
          "name": "stderr",
          "text": [
            "100%|██████████| 14/14 [00:02<00:00,  6.36it/s]\n"
          ]
        },
        {
          "output_type": "stream",
          "name": "stdout",
          "text": [
            "\n",
            "Epoch : 68, train loss : 0.3808162808418274, train acc : 0.8660714285714286\n",
            "Epoch : 68, val loss : 0.007701750844717026 val acc: 0.8211805555555556\n"
          ]
        },
        {
          "output_type": "stream",
          "name": "stderr",
          "text": [
            "100%|██████████| 14/14 [00:02<00:00,  6.37it/s]\n"
          ]
        },
        {
          "output_type": "stream",
          "name": "stdout",
          "text": [
            "\n",
            "Epoch : 69, train loss : 0.4314841032028198, train acc : 0.8605769230769229\n",
            "Epoch : 69, val loss : 0.10318805277347565 val acc: 0.8368055555555556\n"
          ]
        },
        {
          "output_type": "stream",
          "name": "stderr",
          "text": [
            "100%|██████████| 14/14 [00:02<00:00,  6.36it/s]\n"
          ]
        },
        {
          "output_type": "stream",
          "name": "stdout",
          "text": [
            "\n",
            "Epoch : 70, train loss : 0.3444671034812927, train acc : 0.8873626373626373\n",
            "Epoch : 70, val loss : 0.09709713608026505 val acc: 0.8315972222222222\n"
          ]
        },
        {
          "output_type": "stream",
          "name": "stderr",
          "text": [
            "100%|██████████| 14/14 [00:02<00:00,  6.47it/s]\n"
          ]
        },
        {
          "output_type": "stream",
          "name": "stdout",
          "text": [
            "\n",
            "Epoch : 71, train loss : 0.3548737168312073, train acc : 0.8806662087912088\n",
            "Epoch : 71, val loss : 0.0936741754412651 val acc: 0.8315972222222222\n"
          ]
        },
        {
          "output_type": "stream",
          "name": "stderr",
          "text": [
            "100%|██████████| 14/14 [00:02<00:00,  6.34it/s]\n"
          ]
        },
        {
          "output_type": "stream",
          "name": "stdout",
          "text": [
            "\n",
            "Epoch : 72, train loss : 0.3770744204521179, train acc : 0.876201923076923\n",
            "Epoch : 72, val loss : 0.09801990538835526 val acc: 0.8368055555555556\n"
          ]
        },
        {
          "output_type": "stream",
          "name": "stderr",
          "text": [
            "100%|██████████| 14/14 [00:02<00:00,  6.50it/s]\n"
          ]
        },
        {
          "output_type": "stream",
          "name": "stdout",
          "text": [
            "\n",
            "Epoch : 73, train loss : 0.41324225068092346, train acc : 0.8605769230769231\n",
            "Epoch : 73, val loss : 0.10110756009817123 val acc: 0.842013888888889\n"
          ]
        },
        {
          "output_type": "stream",
          "name": "stderr",
          "text": [
            "100%|██████████| 14/14 [00:02<00:00,  6.51it/s]\n"
          ]
        },
        {
          "output_type": "stream",
          "name": "stdout",
          "text": [
            "\n",
            "Epoch : 74, train loss : 0.4682745933532715, train acc : 0.8494162087912089\n",
            "Epoch : 74, val loss : 0.11075708270072937 val acc: 0.8368055555555556\n"
          ]
        },
        {
          "output_type": "stream",
          "name": "stderr",
          "text": [
            "100%|██████████| 14/14 [00:02<00:00,  6.38it/s]\n"
          ]
        },
        {
          "output_type": "stream",
          "name": "stdout",
          "text": [
            "\n",
            "Epoch : 75, train loss : 0.5419359803199768, train acc : 0.834993131868132\n",
            "Epoch : 75, val loss : 0.15404841303825378 val acc: 0.8368055555555556\n"
          ]
        },
        {
          "output_type": "stream",
          "name": "stderr",
          "text": [
            "100%|██████████| 14/14 [00:02<00:00,  6.33it/s]\n"
          ]
        },
        {
          "output_type": "stream",
          "name": "stdout",
          "text": [
            "\n",
            "Epoch : 76, train loss : 0.6252191662788391, train acc : 0.8305288461538463\n",
            "Epoch : 76, val loss : 0.26763349771499634 val acc: 0.8090277777777778\n"
          ]
        },
        {
          "output_type": "stream",
          "name": "stderr",
          "text": [
            "100%|██████████| 14/14 [00:02<00:00,  6.39it/s]\n"
          ]
        },
        {
          "output_type": "stream",
          "name": "stdout",
          "text": [
            "\n",
            "Epoch : 77, train loss : 0.7244524955749512, train acc : 0.8104395604395604\n",
            "Epoch : 77, val loss : 0.38170281052589417 val acc: 0.8038194444444445\n"
          ]
        },
        {
          "output_type": "stream",
          "name": "stderr",
          "text": [
            "100%|██████████| 14/14 [00:02<00:00,  6.33it/s]\n"
          ]
        },
        {
          "output_type": "stream",
          "name": "stdout",
          "text": [
            "\n",
            "Epoch : 78, train loss : 0.9154093861579895, train acc : 0.7992788461538463\n",
            "Epoch : 78, val loss : 0.5854570269584656 val acc: 0.8038194444444445\n"
          ]
        },
        {
          "output_type": "stream",
          "name": "stderr",
          "text": [
            "100%|██████████| 14/14 [00:02<00:00,  6.41it/s]\n"
          ]
        },
        {
          "output_type": "stream",
          "name": "stdout",
          "text": [
            "\n",
            "Epoch : 79, train loss : 1.2503845691680908, train acc : 0.7736950549450549\n",
            "Epoch : 79, val loss : 1.3054635524749756 val acc: 0.765625\n"
          ]
        },
        {
          "output_type": "stream",
          "name": "stderr",
          "text": [
            "100%|██████████| 14/14 [00:02<00:00,  6.31it/s]\n"
          ]
        },
        {
          "output_type": "stream",
          "name": "stdout",
          "text": [
            "\n",
            "Epoch : 80, train loss : 2.0793442726135254, train acc : 0.7525755494505494\n",
            "Epoch : 80, val loss : 3.380796432495117 val acc: 0.703125\n"
          ]
        },
        {
          "output_type": "stream",
          "name": "stderr",
          "text": [
            "100%|██████████| 14/14 [00:02<00:00,  6.36it/s]\n"
          ]
        },
        {
          "output_type": "stream",
          "name": "stdout",
          "text": [
            "\n",
            "Epoch : 81, train loss : 4.530527591705322, train acc : 0.6833791208791209\n",
            "Epoch : 81, val loss : 8.272177696228027 val acc: 0.671875\n"
          ]
        },
        {
          "output_type": "stream",
          "name": "stderr",
          "text": [
            "100%|██████████| 14/14 [00:02<00:00,  6.33it/s]\n"
          ]
        },
        {
          "output_type": "stream",
          "name": "stdout",
          "text": [
            "\n",
            "Epoch : 82, train loss : 8.070396423339844, train acc : 0.649896978021978\n",
            "Epoch : 82, val loss : 3.4161856174468994 val acc: 0.671875\n"
          ]
        },
        {
          "output_type": "stream",
          "name": "stderr",
          "text": [
            "100%|██████████| 14/14 [00:02<00:00,  6.30it/s]\n"
          ]
        },
        {
          "output_type": "stream",
          "name": "stdout",
          "text": [
            "\n",
            "Epoch : 83, train loss : 9.437417030334473, train acc : 0.6004464285714286\n",
            "Epoch : 83, val loss : 0.03020285628736019 val acc: 0.6961805555555556\n"
          ]
        },
        {
          "output_type": "stream",
          "name": "stderr",
          "text": [
            "100%|██████████| 14/14 [00:02<00:00,  6.32it/s]\n"
          ]
        },
        {
          "output_type": "stream",
          "name": "stdout",
          "text": [
            "\n",
            "Epoch : 84, train loss : 8.06969165802002, train acc : 0.6272321428571428\n",
            "Epoch : 84, val loss : 2.7689744456438348e-05 val acc: 0.7812500000000001\n"
          ]
        },
        {
          "output_type": "stream",
          "name": "stderr",
          "text": [
            "100%|██████████| 14/14 [00:02<00:00,  6.33it/s]\n"
          ]
        },
        {
          "output_type": "stream",
          "name": "stdout",
          "text": [
            "\n",
            "Epoch : 85, train loss : 5.436567306518555, train acc : 0.6718749999999999\n",
            "Epoch : 85, val loss : 1.5808333046152256e-05 val acc: 0.7934027777777778\n"
          ]
        },
        {
          "output_type": "stream",
          "name": "stderr",
          "text": [
            "100%|██████████| 14/14 [00:02<00:00,  6.37it/s]\n"
          ]
        },
        {
          "output_type": "stream",
          "name": "stdout",
          "text": [
            "\n",
            "Epoch : 86, train loss : 4.825759410858154, train acc : 0.6986607142857142\n",
            "Epoch : 86, val loss : 2.0557215975713916e-05 val acc: 0.8038194444444444\n"
          ]
        },
        {
          "output_type": "stream",
          "name": "stderr",
          "text": [
            "100%|██████████| 14/14 [00:02<00:00,  6.35it/s]\n"
          ]
        },
        {
          "output_type": "stream",
          "name": "stdout",
          "text": [
            "\n",
            "Epoch : 87, train loss : 4.2239203453063965, train acc : 0.7276785714285713\n",
            "Epoch : 87, val loss : 0.00010041353380074725 val acc: 0.8107638888888888\n"
          ]
        },
        {
          "output_type": "stream",
          "name": "stderr",
          "text": [
            "100%|██████████| 14/14 [00:02<00:00,  6.41it/s]\n"
          ]
        },
        {
          "output_type": "stream",
          "name": "stdout",
          "text": [
            "\n",
            "Epoch : 88, train loss : 3.5481321811676025, train acc : 0.7433035714285714\n",
            "Epoch : 88, val loss : 0.00014242218458093703 val acc: 0.8107638888888888\n"
          ]
        },
        {
          "output_type": "stream",
          "name": "stderr",
          "text": [
            "100%|██████████| 14/14 [00:02<00:00,  6.36it/s]\n"
          ]
        },
        {
          "output_type": "stream",
          "name": "stdout",
          "text": [
            "\n",
            "Epoch : 89, train loss : 3.125149726867676, train acc : 0.7633928571428573\n",
            "Epoch : 89, val loss : 8.25412425911054e-05 val acc: 0.8159722222222222\n"
          ]
        },
        {
          "output_type": "stream",
          "name": "stderr",
          "text": [
            "100%|██████████| 14/14 [00:02<00:00,  6.35it/s]\n"
          ]
        },
        {
          "output_type": "stream",
          "name": "stdout",
          "text": [
            "\n",
            "Epoch : 90, train loss : 2.8545501232147217, train acc : 0.7678571428571429\n",
            "Epoch : 90, val loss : 2.562797089922242e-05 val acc: 0.8090277777777778\n"
          ]
        },
        {
          "output_type": "stream",
          "name": "stderr",
          "text": [
            "100%|██████████| 14/14 [00:02<00:00,  6.34it/s]\n"
          ]
        },
        {
          "output_type": "stream",
          "name": "stdout",
          "text": [
            "\n",
            "Epoch : 91, train loss : 2.724637508392334, train acc : 0.7812500000000001\n",
            "Epoch : 91, val loss : 1.7797976397559978e-05 val acc: 0.8038194444444445\n"
          ]
        },
        {
          "output_type": "stream",
          "name": "stderr",
          "text": [
            "100%|██████████| 14/14 [00:02<00:00,  6.34it/s]\n"
          ]
        },
        {
          "output_type": "stream",
          "name": "stdout",
          "text": [
            "\n",
            "Epoch : 92, train loss : 2.700854539871216, train acc : 0.7790178571428572\n",
            "Epoch : 92, val loss : 5.075019726064056e-05 val acc: 0.8038194444444445\n"
          ]
        },
        {
          "output_type": "stream",
          "name": "stderr",
          "text": [
            "100%|██████████| 14/14 [00:02<00:00,  6.33it/s]\n"
          ]
        },
        {
          "output_type": "stream",
          "name": "stdout",
          "text": [
            "\n",
            "Epoch : 93, train loss : 2.753915786743164, train acc : 0.7723214285714285\n",
            "Epoch : 93, val loss : 0.00010604535054881126 val acc: 0.8038194444444445\n"
          ]
        },
        {
          "output_type": "stream",
          "name": "stderr",
          "text": [
            "100%|██████████| 14/14 [00:02<00:00,  6.33it/s]\n"
          ]
        },
        {
          "output_type": "stream",
          "name": "stdout",
          "text": [
            "\n",
            "Epoch : 94, train loss : 2.7621264457702637, train acc : 0.7723214285714285\n",
            "Epoch : 94, val loss : 0.00016493471048306674 val acc: 0.8038194444444445\n"
          ]
        },
        {
          "output_type": "stream",
          "name": "stderr",
          "text": [
            "100%|██████████| 14/14 [00:02<00:00,  6.38it/s]\n"
          ]
        },
        {
          "output_type": "stream",
          "name": "stdout",
          "text": [
            "\n",
            "Epoch : 95, train loss : 2.7219009399414062, train acc : 0.7700892857142857\n",
            "Epoch : 95, val loss : 0.000236763822613284 val acc: 0.8038194444444445\n"
          ]
        },
        {
          "output_type": "stream",
          "name": "stderr",
          "text": [
            "100%|██████████| 14/14 [00:02<00:00,  6.37it/s]\n"
          ]
        },
        {
          "output_type": "stream",
          "name": "stdout",
          "text": [
            "\n",
            "Epoch : 96, train loss : 2.6675753593444824, train acc : 0.7678571428571428\n",
            "Epoch : 96, val loss : 0.0003173070144839585 val acc: 0.8038194444444445\n"
          ]
        },
        {
          "output_type": "stream",
          "name": "stderr",
          "text": [
            "100%|██████████| 14/14 [00:02<00:00,  6.37it/s]\n"
          ]
        },
        {
          "output_type": "stream",
          "name": "stdout",
          "text": [
            "\n",
            "Epoch : 97, train loss : 2.6195621490478516, train acc : 0.7633928571428571\n",
            "Epoch : 97, val loss : 0.0003890063671860844 val acc: 0.8090277777777778\n"
          ]
        },
        {
          "output_type": "stream",
          "name": "stderr",
          "text": [
            "100%|██████████| 14/14 [00:02<00:00,  6.35it/s]\n"
          ]
        },
        {
          "output_type": "stream",
          "name": "stdout",
          "text": [
            "\n",
            "Epoch : 98, train loss : 2.587653636932373, train acc : 0.765625\n",
            "Epoch : 98, val loss : 0.0004405953804962337 val acc: 0.8038194444444444\n"
          ]
        },
        {
          "output_type": "stream",
          "name": "stderr",
          "text": [
            "100%|██████████| 14/14 [00:02<00:00,  6.37it/s]\n"
          ]
        },
        {
          "output_type": "stream",
          "name": "stdout",
          "text": [
            "\n",
            "Epoch : 99, train loss : 2.5760979652404785, train acc : 0.7589285714285715\n",
            "Epoch : 99, val loss : 0.0004654668446164578 val acc: 0.8038194444444444\n"
          ]
        },
        {
          "output_type": "stream",
          "name": "stderr",
          "text": [
            "100%|██████████| 14/14 [00:02<00:00,  6.37it/s]\n"
          ]
        },
        {
          "output_type": "stream",
          "name": "stdout",
          "text": [
            "\n",
            "Epoch : 100, train loss : 2.5849530696868896, train acc : 0.7544642857142857\n",
            "Epoch : 100, val loss : 0.00045253196731209755 val acc: 0.8038194444444444\n"
          ]
        },
        {
          "output_type": "execute_result",
          "data": {
            "text/plain": [
              "<All keys matched successfully>"
            ]
          },
          "metadata": {},
          "execution_count": 45
        }
      ],
      "source": [
        "\n",
        "# print('Labels', np.array(labels).shape)\n",
        "\n",
        "\n",
        "# print(np.array(test))\n",
        "\n",
        "def make_train_step(model, optimizer, loss_fn):\n",
        "  def train_step(x,y):\n",
        "    #make prediction\n",
        "    yhat = model(x)\n",
        "    #enter train mode\n",
        "    model.train()\n",
        "    #compute loss\n",
        "    loss = loss_fn(yhat,y)\n",
        "\n",
        "    loss.backward()\n",
        "    optimizer.step()\n",
        "    optimizer.zero_grad()\n",
        "    #optimizer.cleargrads()\n",
        "    yhatsig = torch.sigmoid(yhat)\n",
        "    acc = accuracy(yhatsig, y)\n",
        "\n",
        "    return loss, acc\n",
        "  return train_step\n",
        "\n",
        "def accuracy(preds, labels):\n",
        "    acc = 0\n",
        "    for i, pred in enumerate(preds):\n",
        "        p = torch.argmax(pred)\n",
        "        \n",
        "        if torch.round(pred) == labels[i]:\n",
        "            acc +=1\n",
        "\n",
        "    return acc/len(preds)\n",
        "\n",
        "device = \"cuda\" if torch.cuda.is_available() else \"cpu\"\n",
        "model = models.resnet18(pretrained=True)\n",
        "\n",
        "#freeze all params\n",
        "# for params in model.parameters():\n",
        "#   params.requires_grad_ = False\n",
        "\n",
        "#add a new final layer\n",
        "nr_filters = model.fc.in_features  #number of input features of last layer\n",
        "model.fc = nn.Linear(nr_filters, 1)\n",
        "\n",
        "model = model.to(device)\n",
        "from torch.nn.modules.loss import BCEWithLogitsLoss\n",
        "from torch.optim import lr_scheduler\n",
        "\n",
        "#loss\n",
        "loss_fn = BCEWithLogitsLoss() #binary cross entropy with sigmoid, so no need to use sigmoid in the model\n",
        "\n",
        "#optimizer\n",
        "optimizer = torch.optim.Adam(model.fc.parameters(), lr=0.05, betas=(0.9, 0.999))\n",
        "\n",
        "#train step\n",
        "train_step = make_train_step(model, optimizer, loss_fn)\n",
        "\n",
        "from tqdm import tqdm\n",
        "\n",
        "losses = []\n",
        "val_losses = []\n",
        "accs = []\n",
        "val_accs = []\n",
        "epoch_train_losses = []\n",
        "epoch_test_losses = []\n",
        "epoch_train_accs = []\n",
        "epoch_test_accs = []\n",
        "\n",
        "n_epochs = 100\n",
        "early_stopping_tolerance = 5\n",
        "early_stopping_threshold = 0.03\n",
        "\n",
        "for epoch in range(n_epochs):\n",
        "  epoch_loss = 0\n",
        "  epoch_acc = 0\n",
        "\n",
        "  for i ,data in tqdm(enumerate(trainloader), total = len(trainloader)): #iterate ove batches\n",
        "    x_batch , y_batch = data\n",
        "    x_batch = x_batch.to(device) #move to gpu\n",
        "    y_batch = y_batch.unsqueeze(1).float() #convert target to same nn output shape\n",
        "    y_batch = y_batch.to(device) #move to gpu\n",
        "\n",
        "\n",
        "    loss, acc = train_step(x_batch, y_batch)\n",
        "    epoch_acc += acc/len(trainloader)\n",
        "    epoch_loss += loss/len(trainloader)\n",
        "    losses.append(loss)\n",
        "    accs.append(acc)\n",
        "\n",
        "  epoch_train_losses.append(epoch_loss)\n",
        "  epoch_train_accs.append(epoch_acc)\n",
        "\n",
        "  print('\\nEpoch : {}, train loss : {}, train acc : {}'.format(epoch+1,epoch_loss, epoch_acc))\n",
        "\n",
        "  #validation doesnt requires gradient\n",
        "  with torch.no_grad():\n",
        "    cum_loss = 0\n",
        "    cum_acc = 0\n",
        "    for x_batch, y_batch in testloader:\n",
        "      x_batch = x_batch.to(device)\n",
        "      y_batch = y_batch.unsqueeze(1).float() #convert target to same nn output shape\n",
        "      y_batch = y_batch.to(device)\n",
        "\n",
        "      #model to eval mode\n",
        "      model.eval()\n",
        "      \n",
        "      yhat = model(x_batch)\n",
        "      yhatsig = torch.sigmoid(yhat)\n",
        "      # for i in range(len(yhatsig)):\n",
        "      #   print(yhatsig[i], y_batch[i])\n",
        "    \n",
        "      val_loss = loss_fn(yhat,y_batch)\n",
        "      cum_loss += loss/len(testloader)\n",
        "      val_losses.append(val_loss.item())\n",
        "\n",
        "      val_acc = accuracy(yhatsig, y_batch)\n",
        "      cum_acc += val_acc/len(testloader)\n",
        "      val_accs.append(val_acc)\n",
        "\n",
        "\n",
        "    epoch_test_losses.append(cum_loss)\n",
        "    epoch_test_accs.append(cum_acc)\n",
        "\n",
        "    print('Epoch : {}, val loss : {} val acc: {}'.format(epoch+1,cum_loss, cum_acc))\n",
        "\n",
        "    best_loss = min(epoch_test_losses)\n",
        "    best_acc = min(epoch_test_accs)\n",
        "    #save best model\n",
        "    if cum_acc <= best_acc:\n",
        "      best_model_wts = model.state_dict()\n",
        "\n",
        "    #early stopping\n",
        "    early_stopping_counter = 0\n",
        "    if cum_acc > best_acc:\n",
        "      early_stopping_counter +=1\n",
        "\n",
        "    if (early_stopping_counter == early_stopping_tolerance) or (best_acc <= early_stopping_threshold):\n",
        "      print(\"/nTerminating: early stopping\")\n",
        "      break #terminate training\n",
        "\n",
        "#load best model\n",
        "model.load_state_dict(best_model_wts)\n"
      ]
    },
    {
      "cell_type": "code",
      "source": [],
      "metadata": {
        "id": "hpXVy0BTj2NF"
      },
      "execution_count": null,
      "outputs": []
    },
    {
      "cell_type": "code",
      "source": [
        "from google.colab import drive\n",
        "drive.mount('/content/drive')"
      ],
      "metadata": {
        "id": "8W0bXz0McXsw"
      },
      "execution_count": null,
      "outputs": []
    }
  ]
}