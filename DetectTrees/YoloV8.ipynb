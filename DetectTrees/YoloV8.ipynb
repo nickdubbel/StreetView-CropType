{
 "cells": [
  {
   "cell_type": "code",
   "execution_count": null,
   "metadata": {},
   "outputs": [],
   "source": [
    "! pip install roboflow"
   ]
  },
  {
   "cell_type": "markdown",
   "metadata": {},
   "source": [
    "Download data"
   ]
  },
  {
   "cell_type": "code",
   "execution_count": null,
   "metadata": {},
   "outputs": [],
   "source": [
    "from roboflow import Roboflow\n",
    "rf = Roboflow(api_key=\"VADUz3HxBEISEYIUt6o3\")\n",
    "project = rf.workspace(\"tree-detection-h9dcy\").project(\"tree-detection-ekaot\")\n",
    "version = project.version(1)\n",
    "dataset = version.download(\"yolov8\")"
   ]
  },
  {
   "cell_type": "markdown",
   "metadata": {},
   "source": [
    "Verander de 3 data.yaml regels naar dit: <br> \n",
    "\n",
    "test: ../test/images <br>\n",
    "train: ../train/images <br>\n",
    "val: ../valid/images \n"
   ]
  },
  {
   "cell_type": "markdown",
   "metadata": {},
   "source": [
    "Train model"
   ]
  },
  {
   "cell_type": "code",
   "execution_count": 3,
   "metadata": {},
   "outputs": [
    {
     "name": "stdout",
     "output_type": "stream",
     "text": [
      "Ultralytics YOLOv8.1.42 🚀 Python-3.10.12 torch-2.2.1+cu121 CUDA:0 (NVIDIA GeForce GTX 1070 with Max-Q Design, 8114MiB)\n",
      "\u001b[34m\u001b[1mengine/trainer: \u001b[0mtask=detect, mode=train, model=models/yolov8s.pt, data=/mnt/nvme-Samsung_SSD_970_EVO_1TB_S5H9NS0NA91427J-part2/TU/Onedrive/Robotics/CS4240 Deep learning/Project/testYolo/datasets/Tree-Detection-1/data.yaml, epochs=100, time=None, patience=100, batch=16, imgsz=640, save=True, save_period=-1, cache=False, device=None, workers=8, project=None, name=train, exist_ok=False, pretrained=True, optimizer=auto, verbose=True, seed=0, deterministic=True, single_cls=False, rect=False, cos_lr=False, close_mosaic=10, resume=False, amp=True, fraction=1.0, profile=False, freeze=None, multi_scale=False, overlap_mask=True, mask_ratio=4, dropout=0.0, val=True, split=val, save_json=False, save_hybrid=False, conf=None, iou=0.7, max_det=300, half=False, dnn=False, plots=True, source=None, vid_stride=1, stream_buffer=False, visualize=False, augment=False, agnostic_nms=False, classes=None, retina_masks=False, embed=None, show=False, save_frames=False, save_txt=False, save_conf=False, save_crop=False, show_labels=True, show_conf=True, show_boxes=True, line_width=None, format=torchscript, keras=False, optimize=False, int8=False, dynamic=False, simplify=False, opset=None, workspace=4, nms=False, lr0=0.01, lrf=0.01, momentum=0.937, weight_decay=0.0005, warmup_epochs=3.0, warmup_momentum=0.8, warmup_bias_lr=0.1, box=7.5, cls=0.5, dfl=1.5, pose=12.0, kobj=1.0, label_smoothing=0.0, nbs=64, hsv_h=0.015, hsv_s=0.7, hsv_v=0.4, degrees=0.0, translate=0.1, scale=0.5, shear=0.0, perspective=0.0, flipud=0.0, fliplr=0.5, bgr=0.0, mosaic=1.0, mixup=0.0, copy_paste=0.0, auto_augment=randaugment, erasing=0.4, crop_fraction=1.0, cfg=None, tracker=botsort.yaml, save_dir=runs/detect/train\n",
      "Overriding model.yaml nc=80 with nc=1\n",
      "\n",
      "                   from  n    params  module                                       arguments                     \n",
      "  0                  -1  1       928  ultralytics.nn.modules.conv.Conv             [3, 32, 3, 2]                 \n",
      "  1                  -1  1     18560  ultralytics.nn.modules.conv.Conv             [32, 64, 3, 2]                \n",
      "  2                  -1  1     29056  ultralytics.nn.modules.block.C2f             [64, 64, 1, True]             \n",
      "  3                  -1  1     73984  ultralytics.nn.modules.conv.Conv             [64, 128, 3, 2]               \n",
      "  4                  -1  2    197632  ultralytics.nn.modules.block.C2f             [128, 128, 2, True]           \n",
      "  5                  -1  1    295424  ultralytics.nn.modules.conv.Conv             [128, 256, 3, 2]              \n",
      "  6                  -1  2    788480  ultralytics.nn.modules.block.C2f             [256, 256, 2, True]           \n",
      "  7                  -1  1   1180672  ultralytics.nn.modules.conv.Conv             [256, 512, 3, 2]              \n",
      "  8                  -1  1   1838080  ultralytics.nn.modules.block.C2f             [512, 512, 1, True]           \n",
      "  9                  -1  1    656896  ultralytics.nn.modules.block.SPPF            [512, 512, 5]                 \n",
      " 10                  -1  1         0  torch.nn.modules.upsampling.Upsample         [None, 2, 'nearest']          \n",
      " 11             [-1, 6]  1         0  ultralytics.nn.modules.conv.Concat           [1]                           \n",
      " 12                  -1  1    591360  ultralytics.nn.modules.block.C2f             [768, 256, 1]                 \n",
      " 13                  -1  1         0  torch.nn.modules.upsampling.Upsample         [None, 2, 'nearest']          \n",
      " 14             [-1, 4]  1         0  ultralytics.nn.modules.conv.Concat           [1]                           \n",
      " 15                  -1  1    148224  ultralytics.nn.modules.block.C2f             [384, 128, 1]                 \n",
      " 16                  -1  1    147712  ultralytics.nn.modules.conv.Conv             [128, 128, 3, 2]              \n",
      " 17            [-1, 12]  1         0  ultralytics.nn.modules.conv.Concat           [1]                           \n",
      " 18                  -1  1    493056  ultralytics.nn.modules.block.C2f             [384, 256, 1]                 \n",
      " 19                  -1  1    590336  ultralytics.nn.modules.conv.Conv             [256, 256, 3, 2]              \n",
      " 20             [-1, 9]  1         0  ultralytics.nn.modules.conv.Concat           [1]                           \n",
      " 21                  -1  1   1969152  ultralytics.nn.modules.block.C2f             [768, 512, 1]                 \n",
      " 22        [15, 18, 21]  1   2116435  ultralytics.nn.modules.head.Detect           [1, [128, 256, 512]]          \n",
      "Model summary: 225 layers, 11135987 parameters, 11135971 gradients, 28.6 GFLOPs\n",
      "\n",
      "Transferred 349/355 items from pretrained weights\n",
      "Freezing layer 'model.22.dfl.conv.weight'\n",
      "\u001b[34m\u001b[1mAMP: \u001b[0mrunning Automatic Mixed Precision (AMP) checks with YOLOv8n...\n",
      "\u001b[34m\u001b[1mAMP: \u001b[0mchecks passed ✅\n"
     ]
    },
    {
     "name": "stderr",
     "output_type": "stream",
     "text": [
      "\u001b[34m\u001b[1mtrain: \u001b[0mScanning /mnt/nvme-Samsung_SSD_970_EVO_1TB_S5H9NS0NA91427J-part2/TU/Onedrive/Robotics/CS4240 Deep learning/Project/testYolo/datasets/Tree-Detection-1/train/labels.cache... 4442 images, 0 backgrounds, 0 corrupt: 100%|██████████| 4442/4442 [00:00<?, ?it/s]"
     ]
    },
    {
     "name": "stdout",
     "output_type": "stream",
     "text": [
      "\u001b[34m\u001b[1mtrain: \u001b[0mWARNING ⚠️ /mnt/nvme-Samsung_SSD_970_EVO_1TB_S5H9NS0NA91427J-part2/TU/Onedrive/Robotics/CS4240 Deep learning/Project/testYolo/datasets/Tree-Detection-1/train/images/2_jpg.rf.6f58b6015ab914c957325cecd252268c.jpg: 6 duplicate labels removed\n",
      "\u001b[34m\u001b[1mtrain: \u001b[0mWARNING ⚠️ /mnt/nvme-Samsung_SSD_970_EVO_1TB_S5H9NS0NA91427J-part2/TU/Onedrive/Robotics/CS4240 Deep learning/Project/testYolo/datasets/Tree-Detection-1/train/images/2_jpg.rf.dc3e1944d3bc56835012765738dff7a4.jpg: 5 duplicate labels removed\n",
      "\u001b[34m\u001b[1mtrain: \u001b[0mWARNING ⚠️ /mnt/nvme-Samsung_SSD_970_EVO_1TB_S5H9NS0NA91427J-part2/TU/Onedrive/Robotics/CS4240 Deep learning/Project/testYolo/datasets/Tree-Detection-1/train/images/360_F_248649535_oOFXZMh5UZkdg6NbUOffvnAks10qw6Sb_jpg.rf.132c692b4b283928e5be3556ed15da53.jpg: 1 duplicate labels removed\n",
      "\u001b[34m\u001b[1mtrain: \u001b[0mWARNING ⚠️ /mnt/nvme-Samsung_SSD_970_EVO_1TB_S5H9NS0NA91427J-part2/TU/Onedrive/Robotics/CS4240 Deep learning/Project/testYolo/datasets/Tree-Detection-1/train/images/360_F_248649535_oOFXZMh5UZkdg6NbUOffvnAks10qw6Sb_jpg.rf.61f3877a3e20a0541077662e778d1609.jpg: 1 duplicate labels removed\n",
      "\u001b[34m\u001b[1mtrain: \u001b[0mWARNING ⚠️ /mnt/nvme-Samsung_SSD_970_EVO_1TB_S5H9NS0NA91427J-part2/TU/Onedrive/Robotics/CS4240 Deep learning/Project/testYolo/datasets/Tree-Detection-1/train/images/360_F_76104289_OuTPbpUtHV817z5g2q6sTriTzlpXCHVQ_jpg.rf.6b3d5094e90a7bfed31730dc081e24fb.jpg: 3 duplicate labels removed\n",
      "\u001b[34m\u001b[1mtrain: \u001b[0mWARNING ⚠️ /mnt/nvme-Samsung_SSD_970_EVO_1TB_S5H9NS0NA91427J-part2/TU/Onedrive/Robotics/CS4240 Deep learning/Project/testYolo/datasets/Tree-Detection-1/train/images/360_F_76104289_OuTPbpUtHV817z5g2q6sTriTzlpXCHVQ_jpg.rf.a8d22beb024ae115164e3fe6c0f73bd6.jpg: 2 duplicate labels removed\n",
      "\u001b[34m\u001b[1mtrain: \u001b[0mWARNING ⚠️ /mnt/nvme-Samsung_SSD_970_EVO_1TB_S5H9NS0NA91427J-part2/TU/Onedrive/Robotics/CS4240 Deep learning/Project/testYolo/datasets/Tree-Detection-1/train/images/447082-trees-forest-aerial-drone-photo-pine-trees-nature_jpg.rf.a57ab988eddc3f7d8b10209d425b7da3.jpg: 1 duplicate labels removed\n",
      "\u001b[34m\u001b[1mtrain: \u001b[0mWARNING ⚠️ /mnt/nvme-Samsung_SSD_970_EVO_1TB_S5H9NS0NA91427J-part2/TU/Onedrive/Robotics/CS4240 Deep learning/Project/testYolo/datasets/Tree-Detection-1/train/images/447082-trees-forest-aerial-drone-photo-pine-trees-nature_jpg.rf.fe7357539a797c8ccb20d61aa21c5fd1.jpg: 1 duplicate labels removed\n",
      "\u001b[34m\u001b[1mtrain: \u001b[0mWARNING ⚠️ /mnt/nvme-Samsung_SSD_970_EVO_1TB_S5H9NS0NA91427J-part2/TU/Onedrive/Robotics/CS4240 Deep learning/Project/testYolo/datasets/Tree-Detection-1/train/images/91795616-5805_jpg.rf.c00c2dbf7899ba4bbb9866ed04821b66.jpg: 1 duplicate labels removed\n",
      "\u001b[34m\u001b[1mtrain: \u001b[0mWARNING ⚠️ /mnt/nvme-Samsung_SSD_970_EVO_1TB_S5H9NS0NA91427J-part2/TU/Onedrive/Robotics/CS4240 Deep learning/Project/testYolo/datasets/Tree-Detection-1/train/images/91795616-5805_jpg.rf.c5a69c49f9691df7f5afee6d129f2ed4.jpg: 1 duplicate labels removed\n",
      "\u001b[34m\u001b[1mtrain: \u001b[0mWARNING ⚠️ /mnt/nvme-Samsung_SSD_970_EVO_1TB_S5H9NS0NA91427J-part2/TU/Onedrive/Robotics/CS4240 Deep learning/Project/testYolo/datasets/Tree-Detection-1/train/images/Rusmus_jpg.rf.43b5eeb88d972a105423a15344577292.jpg: 1 duplicate labels removed\n",
      "\u001b[34m\u001b[1mtrain: \u001b[0mWARNING ⚠️ /mnt/nvme-Samsung_SSD_970_EVO_1TB_S5H9NS0NA91427J-part2/TU/Onedrive/Robotics/CS4240 Deep learning/Project/testYolo/datasets/Tree-Detection-1/train/images/Rusmus_jpg.rf.a72010b580d44d99241a923b813292d9.jpg: 2 duplicate labels removed\n",
      "\u001b[34m\u001b[1mtrain: \u001b[0mWARNING ⚠️ /mnt/nvme-Samsung_SSD_970_EVO_1TB_S5H9NS0NA91427J-part2/TU/Onedrive/Robotics/CS4240 Deep learning/Project/testYolo/datasets/Tree-Detection-1/train/images/Rusmus_jpg.rf.ac530d5ec52b5d4d78ed537de67d3621.jpg: 1 duplicate labels removed\n",
      "\u001b[34m\u001b[1mtrain: \u001b[0mWARNING ⚠️ /mnt/nvme-Samsung_SSD_970_EVO_1TB_S5H9NS0NA91427J-part2/TU/Onedrive/Robotics/CS4240 Deep learning/Project/testYolo/datasets/Tree-Detection-1/train/images/Rusmus_jpg.rf.af84a2b0e5238ccb8590a40ab70250fa.jpg: 2 duplicate labels removed\n",
      "\u001b[34m\u001b[1mtrain: \u001b[0mWARNING ⚠️ /mnt/nvme-Samsung_SSD_970_EVO_1TB_S5H9NS0NA91427J-part2/TU/Onedrive/Robotics/CS4240 Deep learning/Project/testYolo/datasets/Tree-Detection-1/train/images/Tipos-de-arboles-19-Abies-pinsapo-746x1024_jpg.rf.9be0a9549195822c7fb985ca5b906c92.jpg: 8 duplicate labels removed\n",
      "\u001b[34m\u001b[1mtrain: \u001b[0mWARNING ⚠️ /mnt/nvme-Samsung_SSD_970_EVO_1TB_S5H9NS0NA91427J-part2/TU/Onedrive/Robotics/CS4240 Deep learning/Project/testYolo/datasets/Tree-Detection-1/train/images/Tipos-de-arboles-19-Abies-pinsapo-746x1024_jpg.rf.e134b4c0793817dc9eeb8219eb7f9182.jpg: 12 duplicate labels removed\n",
      "\u001b[34m\u001b[1mtrain: \u001b[0mWARNING ⚠️ /mnt/nvme-Samsung_SSD_970_EVO_1TB_S5H9NS0NA91427J-part2/TU/Onedrive/Robotics/CS4240 Deep learning/Project/testYolo/datasets/Tree-Detection-1/train/images/cropped-forests_jpg.rf.5e555bc8adea3cf7cc9b7c81c14c56dd.jpg: 2 duplicate labels removed\n",
      "\u001b[34m\u001b[1mtrain: \u001b[0mWARNING ⚠️ /mnt/nvme-Samsung_SSD_970_EVO_1TB_S5H9NS0NA91427J-part2/TU/Onedrive/Robotics/CS4240 Deep learning/Project/testYolo/datasets/Tree-Detection-1/train/images/cropped-forests_jpg.rf.ae126bfebefcf7d1566e913183c774f6.jpg: 2 duplicate labels removed\n",
      "\u001b[34m\u001b[1mtrain: \u001b[0mWARNING ⚠️ /mnt/nvme-Samsung_SSD_970_EVO_1TB_S5H9NS0NA91427J-part2/TU/Onedrive/Robotics/CS4240 Deep learning/Project/testYolo/datasets/Tree-Detection-1/train/images/desktop-wallpaper-50-forest-fire-bushfires_jpg.rf.1c39f398d4e0bbe76909902ebea10e07.jpg: 1 duplicate labels removed\n",
      "\u001b[34m\u001b[1mtrain: \u001b[0mWARNING ⚠️ /mnt/nvme-Samsung_SSD_970_EVO_1TB_S5H9NS0NA91427J-part2/TU/Onedrive/Robotics/CS4240 Deep learning/Project/testYolo/datasets/Tree-Detection-1/train/images/desktop-wallpaper-50-forest-fire-bushfires_jpg.rf.b0bba19a991e7b2b40f5f49faa82693c.jpg: 1 duplicate labels removed\n",
      "\u001b[34m\u001b[1mtrain: \u001b[0mWARNING ⚠️ /mnt/nvme-Samsung_SSD_970_EVO_1TB_S5H9NS0NA91427J-part2/TU/Onedrive/Robotics/CS4240 Deep learning/Project/testYolo/datasets/Tree-Detection-1/train/images/duvar-resimleri-sisli-bir-sabah-alanindaki-agaclar-jpg_jpg.rf.6a72d86c235a22ec3a24a8088eb48494.jpg: 1 duplicate labels removed\n",
      "\u001b[34m\u001b[1mtrain: \u001b[0mWARNING ⚠️ /mnt/nvme-Samsung_SSD_970_EVO_1TB_S5H9NS0NA91427J-part2/TU/Onedrive/Robotics/CS4240 Deep learning/Project/testYolo/datasets/Tree-Detection-1/train/images/duvar-resimleri-sisli-bir-sabah-alanindaki-agaclar-jpg_jpg.rf.c10389a0bd63e659d05b12f5437c3331.jpg: 1 duplicate labels removed\n",
      "\u001b[34m\u001b[1mtrain: \u001b[0mWARNING ⚠️ /mnt/nvme-Samsung_SSD_970_EVO_1TB_S5H9NS0NA91427J-part2/TU/Onedrive/Robotics/CS4240 Deep learning/Project/testYolo/datasets/Tree-Detection-1/train/images/forest_jpg.rf.43b95a530c69a9384932c5e852f0fb05.jpg: 1 duplicate labels removed\n",
      "\u001b[34m\u001b[1mtrain: \u001b[0mWARNING ⚠️ /mnt/nvme-Samsung_SSD_970_EVO_1TB_S5H9NS0NA91427J-part2/TU/Onedrive/Robotics/CS4240 Deep learning/Project/testYolo/datasets/Tree-Detection-1/train/images/forest_jpg.rf.cfcff076c4d4ce3bbd620cc85ff6d8a5.jpg: 1 duplicate labels removed\n",
      "\u001b[34m\u001b[1mtrain: \u001b[0mWARNING ⚠️ /mnt/nvme-Samsung_SSD_970_EVO_1TB_S5H9NS0NA91427J-part2/TU/Onedrive/Robotics/CS4240 Deep learning/Project/testYolo/datasets/Tree-Detection-1/train/images/istockphoto-1129118934-612x612_jpg.rf.38142910074b04b1287be1bd03f5564f.jpg: 1 duplicate labels removed\n",
      "\u001b[34m\u001b[1mtrain: \u001b[0mWARNING ⚠️ /mnt/nvme-Samsung_SSD_970_EVO_1TB_S5H9NS0NA91427J-part2/TU/Onedrive/Robotics/CS4240 Deep learning/Project/testYolo/datasets/Tree-Detection-1/train/images/istockphoto-1129118934-612x612_jpg.rf.f73277cf375453952574f4c7f09551ae.jpg: 1 duplicate labels removed\n"
     ]
    },
    {
     "name": "stderr",
     "output_type": "stream",
     "text": [
      "\n",
      "\u001b[34m\u001b[1mval: \u001b[0mScanning /mnt/nvme-Samsung_SSD_970_EVO_1TB_S5H9NS0NA91427J-part2/TU/Onedrive/Robotics/CS4240 Deep learning/Project/testYolo/datasets/Tree-Detection-1/valid/labels.cache... 1399 images, 0 backgrounds, 0 corrupt: 100%|██████████| 1399/1399 [00:00<?, ?it/s]"
     ]
    },
    {
     "name": "stdout",
     "output_type": "stream",
     "text": [
      "\u001b[34m\u001b[1mval: \u001b[0mWARNING ⚠️ /mnt/nvme-Samsung_SSD_970_EVO_1TB_S5H9NS0NA91427J-part2/TU/Onedrive/Robotics/CS4240 Deep learning/Project/testYolo/datasets/Tree-Detection-1/valid/images/istockphoto-1332860307-612x612_jpg.rf.3c790933280693ca3d2f59cd41a247fe.jpg: 15 duplicate labels removed\n",
      "\u001b[34m\u001b[1mval: \u001b[0mWARNING ⚠️ /mnt/nvme-Samsung_SSD_970_EVO_1TB_S5H9NS0NA91427J-part2/TU/Onedrive/Robotics/CS4240 Deep learning/Project/testYolo/datasets/Tree-Detection-1/valid/images/istockphoto-1388363228-612x612_jpg.rf.d70db508a25309557f82c5bab60edf5c.jpg: 1 duplicate labels removed\n",
      "\u001b[34m\u001b[1mval: \u001b[0mWARNING ⚠️ /mnt/nvme-Samsung_SSD_970_EVO_1TB_S5H9NS0NA91427J-part2/TU/Onedrive/Robotics/CS4240 Deep learning/Project/testYolo/datasets/Tree-Detection-1/valid/images/istockphoto-1433222517-612x612_jpg.rf.11f3f2ca8a318b28331c55ee7b30be14.jpg: 4 duplicate labels removed\n",
      "\u001b[34m\u001b[1mval: \u001b[0mWARNING ⚠️ /mnt/nvme-Samsung_SSD_970_EVO_1TB_S5H9NS0NA91427J-part2/TU/Onedrive/Robotics/CS4240 Deep learning/Project/testYolo/datasets/Tree-Detection-1/valid/images/istockphoto-474517002-612x612_jpg.rf.9c8e406bbf1f2b643976273f77c563fd.jpg: 1 duplicate labels removed\n",
      "\u001b[34m\u001b[1mval: \u001b[0mWARNING ⚠️ /mnt/nvme-Samsung_SSD_970_EVO_1TB_S5H9NS0NA91427J-part2/TU/Onedrive/Robotics/CS4240 Deep learning/Project/testYolo/datasets/Tree-Detection-1/valid/images/istockphoto-858119252-612x612_jpg.rf.e39e648384c8d5075d411c5f3898402d.jpg: 1 duplicate labels removed\n",
      "\u001b[34m\u001b[1mval: \u001b[0mWARNING ⚠️ /mnt/nvme-Samsung_SSD_970_EVO_1TB_S5H9NS0NA91427J-part2/TU/Onedrive/Robotics/CS4240 Deep learning/Project/testYolo/datasets/Tree-Detection-1/valid/images/pexels-matthew-montrone-1179229_jpg.rf.3d0e9b1c2ebac2a55a052ec9b0aa2f2b.jpg: 17 duplicate labels removed\n",
      "\u001b[34m\u001b[1mval: \u001b[0mWARNING ⚠️ /mnt/nvme-Samsung_SSD_970_EVO_1TB_S5H9NS0NA91427J-part2/TU/Onedrive/Robotics/CS4240 Deep learning/Project/testYolo/datasets/Tree-Detection-1/valid/images/pexels-photo-1481581_jpeg_jpg.rf.595c0014667851a1207f4111870b7d2d.jpg: 1 duplicate labels removed\n",
      "\u001b[34m\u001b[1mval: \u001b[0mWARNING ⚠️ /mnt/nvme-Samsung_SSD_970_EVO_1TB_S5H9NS0NA91427J-part2/TU/Onedrive/Robotics/CS4240 Deep learning/Project/testYolo/datasets/Tree-Detection-1/valid/images/pexels-photo-4183522_jpeg_jpg.rf.50f4ef525d7643fe02b345eddd1a30e1.jpg: 18 duplicate labels removed\n",
      "\u001b[34m\u001b[1mval: \u001b[0mWARNING ⚠️ /mnt/nvme-Samsung_SSD_970_EVO_1TB_S5H9NS0NA91427J-part2/TU/Onedrive/Robotics/CS4240 Deep learning/Project/testYolo/datasets/Tree-Detection-1/valid/images/pexels-photo-4183522_jpeg_jpg.rf.a55f79f01da2482e9193fe52bea4487f.jpg: 1 duplicate labels removed\n",
      "\u001b[34m\u001b[1mval: \u001b[0mWARNING ⚠️ /mnt/nvme-Samsung_SSD_970_EVO_1TB_S5H9NS0NA91427J-part2/TU/Onedrive/Robotics/CS4240 Deep learning/Project/testYolo/datasets/Tree-Detection-1/valid/images/pexels-yaroslav-shuraev-1834399_jpg.rf.a5cf1429eb8fb7539e4a16b3621b3408.jpg: 2 duplicate labels removed\n",
      "\u001b[34m\u001b[1mval: \u001b[0mWARNING ⚠️ /mnt/nvme-Samsung_SSD_970_EVO_1TB_S5H9NS0NA91427J-part2/TU/Onedrive/Robotics/CS4240 Deep learning/Project/testYolo/datasets/Tree-Detection-1/valid/images/photo-1537458946910-d0a4db08b4dd_jpg.rf.29b817b6fed014c63a05c805bc6796ea.jpg: 2 duplicate labels removed\n",
      "\u001b[34m\u001b[1mval: \u001b[0mWARNING ⚠️ /mnt/nvme-Samsung_SSD_970_EVO_1TB_S5H9NS0NA91427J-part2/TU/Onedrive/Robotics/CS4240 Deep learning/Project/testYolo/datasets/Tree-Detection-1/valid/images/ruyada-cam-agaci-gormek-001_jpg.rf.b48845cda409e102a4fa6df1c7541edb.jpg: 1 duplicate labels removed\n"
     ]
    },
    {
     "name": "stderr",
     "output_type": "stream",
     "text": [
      "\n"
     ]
    }
   ],
   "source": [
    "from ultralytics import YOLO\n",
    "\n",
    "model = YOLO(\"models/yolov8s.pt\")\n",
    "model.train(data=\"/mnt/nvme-Samsung_SSD_970_EVO_1TB_S5H9NS0NA91427J-part2/TU/Onedrive/Robotics/CS4240 Deep learning/Project/testYolo/datasets/Tree-Detection-1/data.yaml\", epochs=100)\n",
    "prediction_results = model(\"Tree-Detection-1/test/images/istockphoto-114338394-612x612_jpg.rf.d32b60da802bf6f26c5ada85d8c5fcfc.jpg\")\n",
    "model.export(format=\"onnx\") # export the model you have trained"
   ]
  },
  {
   "cell_type": "markdown",
   "metadata": {},
   "source": [
    "#Test model"
   ]
  },
  {
   "cell_type": "code",
   "execution_count": 34,
   "metadata": {},
   "outputs": [
    {
     "name": "stdout",
     "output_type": "stream",
     "text": [
      "\n",
      "image 1/1 /mnt/nvme-Samsung_SSD_970_EVO_1TB_S5H9NS0NA91427J-part2/TU/Onedrive/Robotics/CS4240 Deep learning/Project/StreetView-CropType/DetectTrees/../Data/Tree_dataset02/Redelijk/10_52.0075984.357565241.835236.jpg: 640x640 2 0s, 13.6ms\n",
      "Speed: 1.3ms preprocess, 13.6ms inference, 1.1ms postprocess per image at shape (1, 3, 640, 640)\n",
      "---------------\n",
      "None\n",
      "tensor([[401.5224, 191.8034, 460.9149, 408.0876],\n",
      "        [208.9483, 317.6320, 253.6425, 385.0197]], device='cuda:0')\n",
      "{0: '0'}\n"
     ]
    }
   ],
   "source": [
    "from ultralytics import YOLO\n",
    "\n",
    "test_model = YOLO(\"best.pt\")\n",
    "image = \"Data/Tree_dataset02/Redelijk/10_52.0075984.357565241.835236.jpg\"\n",
    "test_results = test_model(\"../\"+image)\n",
    "r = test_results[0]\n",
    "print(\"---------------\")\n",
    "# print(r)\n",
    "print(r.probs)\n",
    "print(r.boxes.xyxy)\n",
    "print(r.names)\n",
    "r.plot()\n",
    "# print(r.labels[0])\n",
    "r.save_crop(\"test2\", file_name=\"cropped_test\")\n",
    "    # r.show()\n",
    "# print(test_results)"
   ]
  }
 ],
 "metadata": {
  "kernelspec": {
   "display_name": ".venv",
   "language": "python",
   "name": "python3"
  },
  "language_info": {
   "codemirror_mode": {
    "name": "ipython",
    "version": 3
   },
   "file_extension": ".py",
   "mimetype": "text/x-python",
   "name": "python",
   "nbconvert_exporter": "python",
   "pygments_lexer": "ipython3",
   "version": "3.10.12"
  }
 },
 "nbformat": 4,
 "nbformat_minor": 2
}
